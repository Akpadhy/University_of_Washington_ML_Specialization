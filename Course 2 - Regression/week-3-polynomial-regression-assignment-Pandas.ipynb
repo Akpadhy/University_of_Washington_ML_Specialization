{
 "cells": [
  {
   "cell_type": "markdown",
   "metadata": {},
   "source": [
    "# Regression Week 3: Assessing Fit (polynomial regression)"
   ]
  },
  {
   "cell_type": "markdown",
   "metadata": {},
   "source": [
    "In this notebook you will compare different regression models in order to assess which model fits best. We will be using polynomial regression as a means to examine this topic. In particular you will:\n",
    "* Write a function to take an Series and a degree and return an DataFrame where each column is the Series to a polynomial value up to the total degree e.g. degree = 3 then column 1 is the Series column 2 is the Series squared and column 3 is the Series cubed\n",
    "* Use matplotlib to visualize polynomial regressions\n",
    "* Use matplotlib to visualize the same polynomial degree on different subsets of the data\n",
    "* Use a validation set to select a polynomial degree\n",
    "* Assess the final fit using test data\n",
    "\n",
    "We will continue to use the House data from previous notebooks."
   ]
  },
  {
   "cell_type": "markdown",
   "metadata": {},
   "source": [
    "# Fire up graphlab create"
   ]
  },
  {
   "cell_type": "code",
   "execution_count": 1,
   "metadata": {
    "collapsed": true
   },
   "outputs": [],
   "source": [
    "import pandas as pd\n",
    "import numpy as np\n",
    "from sklearn.linear_model import LinearRegression\n",
    "from sklearn import preprocessing"
   ]
  },
  {
   "cell_type": "markdown",
   "metadata": {},
   "source": [
    "Next we're going to write a polynomial function that takes an Series and a maximal degree and returns an DataFrame with columns containing the Series to all the powers up to the maximal degree.\n",
    "\n",
    "The easiest way to apply a power to an Series is to use the .apply() and lambda x: functions. \n",
    "For example to take the example array and compute the third power we can do as follows:"
   ]
  },
  {
   "cell_type": "code",
   "execution_count": 2,
   "metadata": {
    "collapsed": false
   },
   "outputs": [],
   "source": [
    "tmp = np.array([1., 2., 3.,4.,5.])\n",
    "# tmp_cubed = tmp.apply(lambda x: x**3)\n",
    "# print tmp\n",
    "# print tmp_cubed"
   ]
  },
  {
   "cell_type": "markdown",
   "metadata": {},
   "source": [
    "# Polynomial_dataframe function"
   ]
  },
  {
   "cell_type": "markdown",
   "metadata": {},
   "source": [
    "Using the hints above complete the following function to create an DataFrame consisting of the powers of an Series up to a specific degree:"
   ]
  },
  {
   "cell_type": "code",
   "execution_count": 3,
   "metadata": {
    "collapsed": true
   },
   "outputs": [],
   "source": [
    "def polynomial_dataframe(feature, degree):\n",
    "    # assume that degree >= 1\n",
    "    # initialize the DataFrame:\n",
    "    poly_dataframe = pd.DataFrame()\n",
    "#     poly_dataframe['power_1'] = preprocessing.scale(feature)\n",
    "    poly_dataframe['power_1'] = feature\n",
    "    # and set poly_dataframe['power_1'] equal to the passed feature\n",
    "\n",
    "    # first check if degree > 1\n",
    "    if degree > 1:\n",
    "        # then loop over the remaining degrees:\n",
    "        # range usually starts at 0 and stops at the endpoint-1. We want it to start at 2 and stop at degree\n",
    "        for power in range(2, degree+1): \n",
    "            # first we'll give the column a name:\n",
    "            name = 'power_' + str(power)\n",
    "            feat_power = poly_dataframe['power_1'].apply(lambda x: x**power)\n",
    "#             poly_dataframe[name] = preprocessing.scale(feat_power)\n",
    "            poly_dataframe[name] = feat_power\n",
    "            # then assign poly_dataframe[name] to the appropriate power of feature\n",
    "\n",
    "    return poly_dataframe"
   ]
  },
  {
   "cell_type": "markdown",
   "metadata": {},
   "source": [
    "To test your function consider the smaller tmp variable and what you would expect the outcome of the following call:"
   ]
  },
  {
   "cell_type": "code",
   "execution_count": 4,
   "metadata": {
    "collapsed": false
   },
   "outputs": [
    {
     "name": "stdout",
     "output_type": "stream",
     "text": [
      "   power_1  power_2  power_3  power_4  power_5  power_6\n",
      "0        1        1        1        1        1        1\n",
      "1        2        4        8       16       32       64\n",
      "2        3        9       27       81      243      729\n",
      "3        4       16       64      256     1024     4096\n",
      "4        5       25      125      625     3125    15625\n"
     ]
    }
   ],
   "source": [
    "print polynomial_dataframe(tmp, 6)"
   ]
  },
  {
   "cell_type": "markdown",
   "metadata": {},
   "source": [
    "# Visualizing polynomial regression"
   ]
  },
  {
   "cell_type": "markdown",
   "metadata": {},
   "source": [
    "Let's use matplotlib to visualize what a polynomial regression looks like on some real data."
   ]
  },
  {
   "cell_type": "code",
   "execution_count": 5,
   "metadata": {
    "collapsed": true
   },
   "outputs": [],
   "source": [
    "sales = pd.read_csv('kc_house_data.csv')"
   ]
  },
  {
   "cell_type": "markdown",
   "metadata": {},
   "source": [
    "As in Week 3, we will use the sqft_living variable. For plotting purposes (connecting the dots), you'll need to sort by the values of sqft_living. For houses with identical square footage, we break the tie by their prices."
   ]
  },
  {
   "cell_type": "code",
   "execution_count": 6,
   "metadata": {
    "collapsed": false
   },
   "outputs": [],
   "source": [
    "sales = sales.sort_values(['sqft_living', 'price'], axis=0)"
   ]
  },
  {
   "cell_type": "markdown",
   "metadata": {},
   "source": [
    "Let's start with a degree 1 polynomial using 'sqft_living' (i.e. a line) to predict 'price' and plot what it looks like."
   ]
  },
  {
   "cell_type": "code",
   "execution_count": 7,
   "metadata": {
    "collapsed": false
   },
   "outputs": [],
   "source": [
    "poly1_data = polynomial_dataframe(sales['sqft_living'], 1)\n",
    "poly1_data['price'] = sales['price'] # add price to the data since it's the target"
   ]
  },
  {
   "cell_type": "markdown",
   "metadata": {},
   "source": [
    "NOTE: for all the models in this notebook use validation_set = None to ensure that all results are consistent across users."
   ]
  },
  {
   "cell_type": "code",
   "execution_count": 8,
   "metadata": {
    "collapsed": false
   },
   "outputs": [
    {
     "data": {
      "text/plain": [
       "LinearRegression(copy_X=True, fit_intercept=True, n_jobs=1, normalize=False)"
      ]
     },
     "execution_count": 8,
     "metadata": {},
     "output_type": "execute_result"
    }
   ],
   "source": [
    "model1 = LinearRegression()\n",
    "features = ['power_1']\n",
    "target = 'price'\n",
    "model1.fit(poly1_data[features], poly1_data[target])                      "
   ]
  },
  {
   "cell_type": "code",
   "execution_count": 9,
   "metadata": {
    "collapsed": false
   },
   "outputs": [
    {
     "name": "stdout",
     "output_type": "stream",
     "text": [
      "[ 280.6235679]\n",
      "-43580.7430945\n"
     ]
    }
   ],
   "source": [
    "#let's take a look at the weights before we plot\n",
    "print model1.coef_\n",
    "print model1.intercept_"
   ]
  },
  {
   "cell_type": "code",
   "execution_count": 10,
   "metadata": {
    "collapsed": true
   },
   "outputs": [],
   "source": [
    "import matplotlib.pyplot as plt\n",
    "%matplotlib inline"
   ]
  },
  {
   "cell_type": "code",
   "execution_count": 11,
   "metadata": {
    "collapsed": false
   },
   "outputs": [
    {
     "data": {
      "text/plain": [
       "[<matplotlib.lines.Line2D at 0x10b70c5d0>,\n",
       " <matplotlib.lines.Line2D at 0x10b70cd50>]"
      ]
     },
     "execution_count": 11,
     "metadata": {},
     "output_type": "execute_result"
    },
    {
     "data": {
      "image/png": "[encoded data removed]",
      "text/plain": [
       "<matplotlib.figure.Figure at 0x10a0c3650>"
      ]
     },
     "metadata": {},
     "output_type": "display_data"
    }
   ],
   "source": [
    "plt.plot(poly1_data['power_1'],poly1_data['price'],'.',\n",
    "        poly1_data['power_1'], model1.predict(poly1_data[features]),'-')"
   ]
  },
  {
   "cell_type": "markdown",
   "metadata": {},
   "source": [
    "Let's unpack that plt.plot() command. The first pair of Series we passed are the 1st power of sqft and the actual price we then ask it to print these as dots '.'. The next pair we pass is the 1st power of sqft and the predicted values from the linear model. We ask these to be plotted as a line '-'. \n",
    "\n",
    "We can see, not surprisingly, that the predicted values all fall on a line, specifically the one with slope 280 and intercept -43579. What if we wanted to plot a second degree polynomial?"
   ]
  },
  {
   "cell_type": "code",
   "execution_count": 12,
   "metadata": {
    "collapsed": false
   },
   "outputs": [
    {
     "data": {
      "text/plain": [
       "LinearRegression(copy_X=True, fit_intercept=True, n_jobs=1, normalize=False)"
      ]
     },
     "execution_count": 12,
     "metadata": {},
     "output_type": "execute_result"
    }
   ],
   "source": [
    "poly2_data = polynomial_dataframe(sales['sqft_living'], 2)\n",
    "my_features = poly2_data.columns # get the name of the features\n",
    "poly2_data['price'] = sales['price'] # add price to the data since it's the target\n",
    "model2 = LinearRegression()\n",
    "model2.fit(poly2_data[my_features], poly2_data[target])"
   ]
  },
  {
   "cell_type": "code",
   "execution_count": 13,
   "metadata": {
    "collapsed": false
   },
   "outputs": [
    {
     "data": {
      "text/plain": [
       "array([  6.79940947e+01,   3.85812609e-02])"
      ]
     },
     "execution_count": 13,
     "metadata": {},
     "output_type": "execute_result"
    }
   ],
   "source": [
    "model2.coef_"
   ]
  },
  {
   "cell_type": "code",
   "execution_count": 14,
   "metadata": {
    "collapsed": false
   },
   "outputs": [
    {
     "data": {
      "text/plain": [
       "[<matplotlib.lines.Line2D at 0x10e8f4e90>,\n",
       " <matplotlib.lines.Line2D at 0x10e8f4f90>]"
      ]
     },
     "execution_count": 14,
     "metadata": {},
     "output_type": "execute_result"
    },
    {
     "data": {
      "image/png": "[encoded data removed]",
      "text/plain": [
       "<matplotlib.figure.Figure at 0x10b55d350>"
      ]
     },
     "metadata": {},
     "output_type": "display_data"
    }
   ],
   "source": [
    "plt.plot(poly2_data['power_1'],poly2_data['price'],'.',\n",
    "        poly2_data['power_1'], model2.predict(poly2_data[my_features]),'-')"
   ]
  },
  {
   "cell_type": "markdown",
   "metadata": {},
   "source": [
    "The resulting model looks like half a parabola. Try on your own to see what the cubic looks like:"
   ]
  },
  {
   "cell_type": "code",
   "execution_count": null,
   "metadata": {
    "collapsed": false
   },
   "outputs": [],
   "source": []
  },
  {
   "cell_type": "code",
   "execution_count": null,
   "metadata": {
    "collapsed": false
   },
   "outputs": [],
   "source": []
  },
  {
   "cell_type": "markdown",
   "metadata": {},
   "source": [
    "Now try a 15th degree polynomial:"
   ]
  },
  {
   "cell_type": "code",
   "execution_count": 15,
   "metadata": {
    "collapsed": false
   },
   "outputs": [
    {
     "data": {
      "text/plain": [
       "LinearRegression(copy_X=True, fit_intercept=True, n_jobs=1, normalize=False)"
      ]
     },
     "execution_count": 15,
     "metadata": {},
     "output_type": "execute_result"
    }
   ],
   "source": [
    "poly15_data = polynomial_dataframe(sales['sqft_living'], 15)\n",
    "my_features = poly15_data.columns # get the name of the features\n",
    "poly15_data['price'] = sales['price'] # add price to the data since it's the target\n",
    "model15 = LinearRegression()\n",
    "model15.fit(poly15_data[my_features], poly15_data[target])"
   ]
  },
  {
   "cell_type": "code",
   "execution_count": 16,
   "metadata": {
    "collapsed": false
   },
   "outputs": [
    {
     "data": {
      "text/plain": [
       "array([  1.71098448e-05,   4.21658951e-02,   4.60494903e-06,\n",
       "        -4.52668531e-10,  -2.27857379e-14,  -2.34109771e-16,\n",
       "        -5.23220444e-16,   3.52129611e-16,  -2.03911246e-16,\n",
       "        -2.64470147e-16,   1.02317890e-16,   7.18195395e-16,\n",
       "         4.17519616e-16,  -3.94017242e-16,   4.17366833e-17])"
      ]
     },
     "execution_count": 16,
     "metadata": {},
     "output_type": "execute_result"
    }
   ],
   "source": [
    "model15.coef_"
   ]
  },
  {
   "cell_type": "code",
   "execution_count": 17,
   "metadata": {
    "collapsed": false
   },
   "outputs": [
    {
     "data": {
      "text/plain": [
       "[<matplotlib.lines.Line2D at 0x10a809910>,\n",
       " <matplotlib.lines.Line2D at 0x10a809f90>]"
      ]
     },
     "execution_count": 17,
     "metadata": {},
     "output_type": "execute_result"
    },
    {
     "data": {
      "image/png": "[encoded data removed]",
      "text/plain": [
       "<matplotlib.figure.Figure at 0x10ea24a50>"
      ]
     },
     "metadata": {},
     "output_type": "display_data"
    }
   ],
   "source": [
    "plt.plot(poly15_data['power_1'],poly15_data['price'],'.',\n",
    "        poly15_data['power_1'], model15.predict(poly15_data[my_features]),'-')"
   ]
  },
  {
   "cell_type": "markdown",
   "metadata": {},
   "source": [
    "What do you think of the 15th degree polynomial? Do you think this is appropriate? If we were to change the data do you think you'd get pretty much the same curve? Let's take a look."
   ]
  },
  {
   "cell_type": "markdown",
   "metadata": {},
   "source": [
    "# Changing the data and re-learning"
   ]
  },
  {
   "cell_type": "markdown",
   "metadata": {},
   "source": [
    "We're going to split the sales data into four subsets of roughly equal size. Then you will estimate a 15th degree polynomial model on all four subsets of the data. Print the coefficients (you should use .print_rows(num_rows = 16) to view all of them) and plot the resulting fit (as we did above). The quiz will ask you some questions about these results.\n",
    "\n",
    "To split the sales data into four subsets, we perform the following steps:\n",
    "* First split sales into 2 subsets with `.random_split(0.5, seed=0)`. \n",
    "* Next split the resulting subsets into 2 more subsets each. Use `.random_split(0.5, seed=0)`.\n",
    "\n",
    "We set `seed=0` in these steps so that different users get consistent results.\n",
    "You should end up with 4 subsets (`set_1`, `set_2`, `set_3`, `set_4`) of approximately equal size. "
   ]
  },
  {
   "cell_type": "code",
   "execution_count": 18,
   "metadata": {
    "collapsed": true
   },
   "outputs": [],
   "source": [
    "set1 = pd.read_csv('wk3_kc_house_set_1_data.csv')\n",
    "set2 = pd.read_csv('wk3_kc_house_set_2_data.csv')\n",
    "set3 = pd.read_csv('wk3_kc_house_set_3_data.csv')\n",
    "set4 = pd.read_csv('wk3_kc_house_set_4_data.csv')"
   ]
  },
  {
   "cell_type": "markdown",
   "metadata": {},
   "source": [
    "Fit a 15th degree polynomial on set_1, set_2, set_3, and set_4 using sqft_living to predict prices. Print the coefficients and make a plot of the resulting model."
   ]
  },
  {
   "cell_type": "code",
   "execution_count": 19,
   "metadata": {
    "collapsed": false
   },
   "outputs": [],
   "source": [
    "def print_15model(data):\n",
    "    poly15_data = polynomial_dataframe(data['sqft_living'], 15)\n",
    "    my_features = poly15_data.columns # get the name of the features\n",
    "    poly15_data['price'] = data['price'] # add price to the data since it's the target\n",
    "    model15 = LinearRegression()\n",
    "    model15.fit(poly15_data[my_features], poly15_data[target])\n",
    "    print pd.Series(model15.coef_,index=my_features)\n",
    "    plt.plot(poly15_data['power_1'],poly15_data['price'],'.',\n",
    "            poly15_data['power_1'], model15.predict(poly15_data[my_features]),'-')"
   ]
  },
  {
   "cell_type": "code",
   "execution_count": 20,
   "metadata": {
    "collapsed": false
   },
   "outputs": [
    {
     "name": "stdout",
     "output_type": "stream",
     "text": [
      "power_1     1.765504e-05\n",
      "power_2     4.455097e-02\n",
      "power_3     4.133587e-06\n",
      "power_4    -4.478298e-10\n",
      "power_5    -2.266291e-14\n",
      "power_6     8.664594e-17\n",
      "power_7    -7.100226e-16\n",
      "power_8     2.873874e-16\n",
      "power_9    -1.736789e-16\n",
      "power_10   -1.279528e-15\n",
      "power_11    1.282378e-16\n",
      "power_12    5.474235e-16\n",
      "power_13    1.942935e-16\n",
      "power_14   -3.174294e-16\n",
      "power_15   -3.769110e-16\n",
      "dtype: float64\n"
     ]
    },
    {
     "data": {
      "image/png": "[encoded data removed]",
      "text/plain": [
       "<matplotlib.figure.Figure at 0x10e91b610>"
      ]
     },
     "metadata": {},
     "output_type": "display_data"
    }
   ],
   "source": [
    "print_15model(set1)"
   ]
  },
  {
   "cell_type": "code",
   "execution_count": 21,
   "metadata": {
    "collapsed": false
   },
   "outputs": [
    {
     "name": "stdout",
     "output_type": "stream",
     "text": [
      "power_1     3.007021e-05\n",
      "power_2     6.134094e-02\n",
      "power_3    -2.502493e-06\n",
      "power_4     1.112750e-10\n",
      "power_5    -1.761273e-14\n",
      "power_6     7.953259e-16\n",
      "power_7    -3.772120e-16\n",
      "power_8    -3.005191e-16\n",
      "power_9    -6.030679e-16\n",
      "power_10    3.828150e-16\n",
      "power_11    7.101192e-16\n",
      "power_12    7.565371e-16\n",
      "power_13    1.039812e-15\n",
      "power_14   -4.621850e-16\n",
      "power_15    1.350471e-15\n",
      "dtype: float64\n"
     ]
    },
    {
     "data": {
      "image/png": "[encoded data removed]",
      "text/plain": [
       "<matplotlib.figure.Figure at 0x10b5a6790>"
      ]
     },
     "metadata": {},
     "output_type": "display_data"
    }
   ],
   "source": [
    "print_15model(set2)"
   ]
  },
  {
   "cell_type": "code",
   "execution_count": 22,
   "metadata": {
    "collapsed": false
   },
   "outputs": [
    {
     "name": "stdout",
     "output_type": "stream",
     "text": [
      "power_1     3.054822e-05\n",
      "power_2     6.768303e-02\n",
      "power_3    -5.338473e-06\n",
      "power_4     4.609696e-10\n",
      "power_5    -1.312540e-14\n",
      "power_6    -1.486641e-16\n",
      "power_7    -3.530969e-16\n",
      "power_8     5.664677e-16\n",
      "power_9     4.351669e-16\n",
      "power_10    5.262528e-16\n",
      "power_11   -2.256420e-16\n",
      "power_12    1.127719e-15\n",
      "power_13    6.158869e-16\n",
      "power_14    3.238410e-16\n",
      "power_15   -2.487477e-16\n",
      "dtype: float64\n"
     ]
    },
    {
     "data": {
      "image/png": "[encoded data removed]",
      "text/plain": [
       "<matplotlib.figure.Figure at 0x10fd42510>"
      ]
     },
     "metadata": {},
     "output_type": "display_data"
    }
   ],
   "source": [
    "print_15model(set3)"
   ]
  },
  {
   "cell_type": "code",
   "execution_count": 23,
   "metadata": {
    "collapsed": false
   },
   "outputs": [
    {
     "name": "stdout",
     "output_type": "stream",
     "text": [
      "power_1     2.929415e-05\n",
      "power_2     5.476528e-02\n",
      "power_3    -1.436536e-06\n",
      "power_4     7.344295e-11\n",
      "power_5     3.466180e-14\n",
      "power_6    -1.240902e-15\n",
      "power_7    -4.000554e-16\n",
      "power_8     8.906187e-16\n",
      "power_9    -4.980198e-16\n",
      "power_10   -5.522345e-16\n",
      "power_11    2.735928e-16\n",
      "power_12    4.087833e-16\n",
      "power_13    2.846539e-16\n",
      "power_14   -1.042856e-15\n",
      "power_15   -3.202031e-16\n",
      "dtype: float64\n"
     ]
    },
    {
     "data": {
      "image/png": "[encoded data removed]",
      "text/plain": [
       "<matplotlib.figure.Figure at 0x110847710>"
      ]
     },
     "metadata": {},
     "output_type": "display_data"
    }
   ],
   "source": [
    "print_15model(set4)"
   ]
  },
  {
   "cell_type": "markdown",
   "metadata": {},
   "source": [
    "Some questions you will be asked on your quiz:\n",
    "\n",
    "**Quiz Question: Is the sign (positive or negative) for power_15 the same in all four models?**\n",
    "\n",
    "**Quiz Question: (True/False) the plotted fitted lines look the same in all four plots**"
   ]
  },
  {
   "cell_type": "markdown",
   "metadata": {},
   "source": [
    "# Selecting a Polynomial Degree"
   ]
  },
  {
   "cell_type": "markdown",
   "metadata": {},
   "source": [
    "Whenever we have a \"magic\" parameter like the degree of the polynomial there is one well-known way to select these parameters: validation set. (We will explore another approach in week 4).\n",
    "\n",
    "We split the sales dataset 3-way into training set, test set, and validation set as follows:\n",
    "\n",
    "* Split our sales data into 2 sets: `training_and_validation` and `testing`. Use `random_split(0.9, seed=1)`.\n",
    "* Further split our training data into two sets: `training` and `validation`. Use `random_split(0.5, seed=1)`.\n",
    "\n",
    "Again, we set `seed=1` to obtain consistent results for different users."
   ]
  },
  {
   "cell_type": "code",
   "execution_count": 24,
   "metadata": {
    "collapsed": true
   },
   "outputs": [],
   "source": [
    "test = pd.read_csv('wk3_kc_house_test_data.csv')\n",
    "train = pd.read_csv('wk3_kc_house_train_data.csv')\n",
    "valid = pd.read_csv('wk3_kc_house_valid_data.csv')"
   ]
  },
  {
   "cell_type": "markdown",
   "metadata": {},
   "source": [
    "Next you should write a loop that does the following:\n",
    "* For degree in [1, 2, 3, 4, 5, 6, 7, 8, 9, 10, 11, 12, 13, 14, 15] (to get this in python type range(1, 15+1))\n",
    "    * Build an DataFrame of polynomial data of train_data['sqft_living'] at the current degree\n",
    "    * hint: my_features = poly_data.column_names() gives you a list e.g. ['power_1', 'power_2', 'power_3'] which you might find useful for graphlab.linear_regression.create( features = my_features)\n",
    "    * Add train_data['price'] to the polynomial DataFrame\n",
    "    * Learn a polynomial regression model to sqft vs price with that degree on TRAIN data\n",
    "    * Compute the RSS on VALIDATION data (here you will want to use .predict()) for that degree and you will need to make a polynmial DataFrame using validation data.\n",
    "* Report which degree had the lowest RSS on validation data (remember python indexes from 0)\n",
    "\n",
    "(Note you can turn off the print out of linear_regression.create() with verbose = False)"
   ]
  },
  {
   "cell_type": "code",
   "execution_count": 25,
   "metadata": {
    "collapsed": false
   },
   "outputs": [
    {
     "name": "stdout",
     "output_type": "stream",
     "text": [
      "RSS for model 1- Validation : 629097886299587.375000 | Test : 142347931358638.812500 | #feat: 1\n",
      "RSS for model 2- Validation : 623955062706519.500000 | Test : 135542039274080.343750 | #feat: 2\n",
      "RSS for model 3- Validation : 625820280251629.000000 | Test : 135585996079052.796875 | #feat: 3\n",
      "RSS for model 4- Validation : 629987339076002.000000 | Test : 135382681450927.718750 | #feat: 4\n",
      "RSS for model 5- Validation : 623370287049216.250000 | Test : 136772567335861.515625 | #feat: 5\n",
      "RSS for model 6- Validation : 623250943755708.375000 | Test : 136767025587282.421875 | #feat: 6\n",
      "RSS for model 7- Validation : 623179866538447.500000 | Test : 136760059783680.796875 | #feat: 7\n",
      "RSS for model 8- Validation : 623414867352651.500000 | Test : 136786375611685.218750 | #feat: 8\n",
      "RSS for model 9- Validation : 623321763219012.000000 | Test : 136768482798429.390625 | #feat: 9\n",
      "RSS for model 10- Validation : 623378676004996.875000 | Test : 136763669976993.390625 | #feat: 10\n",
      "RSS for model 11- Validation : 623585986136285.875000 | Test : 136773239339375.453125 | #feat: 11\n",
      "RSS for model 12- Validation : 623349663354539.750000 | Test : 136744674960283.703125 | #feat: 12\n",
      "RSS for model 13- Validation : 623283226870467.500000 | Test : 136813464658415.671875 | #feat: 13\n",
      "RSS for model 14- Validation : 623299633181448.250000 | Test : 136984274879353.265625 | #feat: 14\n",
      "RSS for model 15- Validation : 623345331755938.125000 | Test : 137011756748407.015625 | #feat: 15\n"
     ]
    }
   ],
   "source": [
    "rss_ar=[]\n",
    "min = (0,1e+16)\n",
    "for i in range(1,16):\n",
    "    polyi_data = polynomial_dataframe(train['sqft_living'], i)\n",
    "    my_features = polyi_data.columns # get the name of the features\n",
    "#     print my_features\n",
    "    polyi_data['price'] = train['price'] # add price to the data since it's the target\n",
    "    modeli = LinearRegression()\n",
    "    modeli.fit(polyi_data[my_features], polyi_data['price'])\n",
    "#     print pd.Series(model15.coef_,index=my_features)\n",
    "#     plt.plot(poly15_data['power_1'],poly15_data['price'],'.',\n",
    "#             poly15_data['power_1'], model15.predict(poly15_data[my_features]),'-')\n",
    "    polyi_valid = polynomial_dataframe(valid['sqft_living'], i)\n",
    "    pred_v = modeli.predict(polyi_valid)\n",
    "    rss_v = np.sum((pred_v - valid['price'])**2)\n",
    "    \n",
    "    if rss_v<min[1]:\n",
    "        min = (i, rss_v)\n",
    "    polyi_test = polynomial_dataframe(test['sqft_living'], i)\n",
    "    pred_t = modeli.predict(polyi_test)\n",
    "    rss_t = np.sum((pred_t - test['price'])**2)\n",
    "    \n",
    "    print 'RSS for model %d- Validation : %f | Test : %f | #feat: %d' % (i, rss_v,rss_t,len(my_features))"
   ]
  },
  {
   "cell_type": "code",
   "execution_count": 26,
   "metadata": {
    "collapsed": false
   },
   "outputs": [
    {
     "name": "stdout",
     "output_type": "stream",
     "text": [
      "min: 7 - 623179866538447.500000\n"
     ]
    }
   ],
   "source": [
    "print 'min: %d - %f'%(min[0],min[1])"
   ]
  },
  {
   "cell_type": "markdown",
   "metadata": {},
   "source": [
    "**Quiz Question: Which degree (1, 2, …, 15) had the lowest RSS on Validation data?**"
   ]
  },
  {
   "cell_type": "markdown",
   "metadata": {},
   "source": [
    "Now that you have chosen the degree of your polynomial using validation data, compute the RSS of this model on TEST data. Report the RSS on your quiz."
   ]
  },
  {
   "cell_type": "code",
   "execution_count": 27,
   "metadata": {
    "collapsed": false
   },
   "outputs": [
    {
     "data": {
      "text/plain": [
       "True"
      ]
     },
     "execution_count": 27,
     "metadata": {},
     "output_type": "execute_result"
    }
   ],
   "source": [
    "1e+16>1000"
   ]
  },
  {
   "cell_type": "markdown",
   "metadata": {},
   "source": [
    "**Quiz Question: what is the RSS on TEST data for the model with the degree selected from Validation data?**"
   ]
  },
  {
   "cell_type": "code",
   "execution_count": 28,
   "metadata": {
    "collapsed": false
   },
   "outputs": [
    {
     "name": "stdout",
     "output_type": "stream",
     "text": [
      "1.36767025587e+14\n"
     ]
    }
   ],
   "source": [
    "poly7_data = polynomial_dataframe(train['sqft_living'], 6)\n",
    "my_features = poly7_data.columns # get the name of the features\n",
    "poly7_data['price'] = train['price'] # add price to the data since it's the target\n",
    "model7 = LinearRegression()\n",
    "model7.fit(poly7_data[my_features], poly7_data['price'])\n",
    "poly7_test = polynomial_dataframe(test['sqft_living'], 6)\n",
    "pred = model7.predict(poly7_test)\n",
    "rss = np.sum((pred - test['price'])**2)\n",
    "print rss"
   ]
  },
  {
   "cell_type": "code",
   "execution_count": 29,
   "metadata": {
    "collapsed": false
   },
   "outputs": [
    {
     "name": "stdout",
     "output_type": "stream",
     "text": [
      "Index([u'power_1', u'power_2', u'power_3', u'power_4', u'power_5', u'power_6',\n",
      "       u'price'],\n",
      "      dtype='object')\n"
     ]
    }
   ],
   "source": [
    "print poly7_data.columns"
   ]
  }
 ],
 "metadata": {
  "kernelspec": {
   "display_name": "Python 2",
   "language": "python",
   "name": "python2"
  },
  "language_info": {
   "codemirror_mode": {
    "name": "ipython",
    "version": 2
   },
   "file_extension": ".py",
   "mimetype": "text/x-python",
   "name": "python",
   "nbconvert_exporter": "python",
   "pygments_lexer": "ipython2",
   "version": "2.7.11"
  }
 },
 "nbformat": 4,
 "nbformat_minor": 0
}
